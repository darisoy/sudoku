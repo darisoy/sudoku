{
  "nbformat": 4,
  "nbformat_minor": 0,
  "metadata": {
    "colab": {
      "provenance": [],
      "authorship_tag": "ABX9TyN4fTqW1HfojVRWQHdYX3H9",
      "include_colab_link": true
    },
    "kernelspec": {
      "name": "python3",
      "display_name": "Python 3"
    },
    "language_info": {
      "name": "python"
    }
  },
  "cells": [
    {
      "cell_type": "markdown",
      "metadata": {
        "id": "view-in-github",
        "colab_type": "text"
      },
      "source": [
        "<a href=\"https://colab.research.google.com/github/darisoy/sudoku/blob/main/sudoku.ipynb\" target=\"_parent\"><img src=\"https://colab.research.google.com/assets/colab-badge.svg\" alt=\"Open In Colab\"/></a>"
      ]
    },
    {
      "cell_type": "code",
      "source": [
        "import random\n",
        "import numpy as np"
      ],
      "metadata": {
        "id": "pD3txybvv7L7"
      },
      "execution_count": null,
      "outputs": []
    },
    {
      "cell_type": "code",
      "source": [
        "def print_sudoku(puzzle):\n",
        "  for r, row in enumerate(puzzle):\n",
        "    pr = \"\"\n",
        "    for c, col in enumerate(row):\n",
        "      pr += str(col)\n",
        "      if c == 2 or c == 5:\n",
        "        pr += \"|\"  \n",
        "    print(pr)\n",
        "    if r == 2 or r == 5:\n",
        "      print(\"---|---|---\")"
      ],
      "metadata": {
        "id": "sFlal6ormFz5"
      },
      "execution_count": null,
      "outputs": []
    },
    {
      "cell_type": "code",
      "source": [
        "def box(puzzle, x, y):\n",
        "  col = [6, 7, 8]\n",
        "  if x < 3:\n",
        "    col = [0, 1, 2]\n",
        "  elif (x >= 3 and x < 6):\n",
        "    col = [3, 4, 5]\n",
        "\n",
        "  row = [6, 7, 8]\n",
        "  if y < 3:\n",
        "    row = [0, 1, 2]\n",
        "  elif (y >= 3 and y < 6):\n",
        "    row = [3, 4, 5]\n",
        "\n",
        "  box = []\n",
        "  for c in col:\n",
        "    for r in row:\n",
        "      box.append(puzzle[r][c])\n",
        "  return box\n",
        "\n",
        "def col(puzzle, y):\n",
        "  c = []\n",
        "  for row in puzzle:\n",
        "    c.append(row[y])\n",
        "  return c\n",
        "\n",
        "def row(puzzle, x):\n",
        "  return puzzle[x]\n",
        "\n",
        "def valid_number(puzzle, n, x, y):\n",
        "  return (n not in box(puzzle, x, y)) and (n not in col(puzzle, x)) and (n not in row(puzzle, y))\n",
        "\n",
        "def pick_valid_number(puzzle, possible, x, y):\n",
        "  for n in possible:\n",
        "    if valid_number(puzzle, n, x, y):\n",
        "      return n"
      ],
      "metadata": {
        "id": "wLlYUd_Sv2Gf"
      },
      "execution_count": null,
      "outputs": []
    },
    {
      "cell_type": "code",
      "source": [
        "def generate_solution(verbose=False):\n",
        "  s = [[0 for i in range(9)] for j in range(9)]\n",
        "  possible = [[random.sample(range(1, 10), 9) for _ in range(9)] for _ in range(9)]\n",
        "  x, y = 0, 0\n",
        "  while x < 9 and x >= 0:\n",
        "    while y < 9 and y >= 0 and x >= 0:\n",
        "      num = pick_valid_number(s, possible[y][x], x, y)\n",
        "      if verbose:\n",
        "        print(\"(%d, %d) = %s\" % (x, y, str(num)))\n",
        "        print(possible[y][x])\n",
        "      if num == None:\n",
        "        s[y][x] = 0\n",
        "        possible[y][x] = random.sample(range(1, 10), 9)\n",
        "        y -= 1\n",
        "        if y < 0:\n",
        "          x -= 1\n",
        "          y = 0\n",
        "      else:\n",
        "        s[y][x] = num\n",
        "        if num in possible[y][x]:\n",
        "          possible[y][x].remove(num)\n",
        "        y += 1\n",
        "      if verbose:\n",
        "        print_sudoku(s)\n",
        "    y = 0\n",
        "    x += 1\n",
        "  return s"
      ],
      "metadata": {
        "id": "hA2KlypCnZDQ"
      },
      "execution_count": null,
      "outputs": []
    },
    {
      "cell_type": "code",
      "source": [
        "def unique(puzzle):\n",
        "  s = [row[:] for row in puzzle] \n",
        "  return solutions(s, 0, 0, 0) == 1\n",
        "\n",
        "def solutions(puzzle, x, y, count):\n",
        "  if x == 9:\n",
        "    x = 0\n",
        "    y += 1\n",
        "    if y == 9:\n",
        "      return count + 1\n",
        "  \n",
        "  if puzzle[y][x] != 0:\n",
        "    return solutions(puzzle, x+1, y, count)\n",
        "\n",
        "  for n in range(1, 10):\n",
        "    if count > 2:\n",
        "      return count\n",
        "    if valid_number(puzzle, n, x, y):\n",
        "      puzzle[y][x] = n\n",
        "      count = solutions(puzzle, x+1, y, count)\n",
        "  \n",
        "  puzzle[y][x] = 0\n",
        "  return count"
      ],
      "metadata": {
        "id": "pJJDY4A27JXd"
      },
      "execution_count": null,
      "outputs": []
    },
    {
      "cell_type": "code",
      "source": [
        "def generate_puzzle(puzzle):\n",
        "  p = [row[:] for row in puzzle]\n",
        "  cells = [i for i in range(81)]\n",
        "  while len(cells) > (81 - random.randint(35, 65)):\n",
        "    i = random.choice(cells)\n",
        "    x, y = int(i / 9), i % 9\n",
        "    n = p[y][x]\n",
        "    p[y][x] = 0\n",
        "    if not unique(p):\n",
        "      p[y][x] = n\n",
        "    else:\n",
        "      cells.remove(i)\n",
        "  return p"
      ],
      "metadata": {
        "id": "4Ow25GP-mJHK"
      },
      "execution_count": null,
      "outputs": []
    },
    {
      "cell_type": "code",
      "source": [
        "class Sudoku:\n",
        "  def __init__(self):\n",
        "    self.solution = generate_solution()\n",
        "    self.puzzle = generate_puzzle(self.solution)"
      ],
      "metadata": {
        "id": "e1Nj7n1IlFLd"
      },
      "execution_count": null,
      "outputs": []
    },
    {
      "cell_type": "code",
      "source": [
        "def solve(puzzle):\n",
        "  s = [row[:] for row in puzzle]\n",
        "  to_solve = []\n",
        "  for x in range(9):\n",
        "    for y in range(9):\n",
        "      if puzzle[y][x] == 0:\n",
        "        to_solve.append((x, y))\n",
        "\n",
        "  orig_possible = []\n",
        "  for x, y in to_solve:\n",
        "    new_possible = []\n",
        "    for p in range(1, 10):\n",
        "      if valid_number(puzzle, p, x, y):\n",
        "        new_possible.append(p)\n",
        "    orig_possible.append(new_possible)\n",
        "\n",
        "  possible = [row[:] for row in orig_possible]\n",
        "  i = 0\n",
        "  while i < len(to_solve):\n",
        "    x, y = to_solve[i]\n",
        "    num = pick_valid_number(s, possible[i], x, y)\n",
        "    if num is None:\n",
        "      s[y][x] = 0\n",
        "      possible[i] = orig_possible[i][:]\n",
        "      i -= 1\n",
        "    else:\n",
        "      s[y][x] = num\n",
        "      if num in possible[i]:\n",
        "        possible[i].remove(num)\n",
        "      i += 1\n",
        "  return s"
      ],
      "metadata": {
        "id": "ssRKGNkSnYQ-"
      },
      "execution_count": null,
      "outputs": []
    },
    {
      "cell_type": "code",
      "source": [
        "b = Sudoku()\n",
        "print(\"Solution:\")\n",
        "print_sudoku(b.solution)\n",
        "print()\n",
        "print(\"Puzzle:\")\n",
        "print_sudoku(b.puzzle)\n",
        "print()\n",
        "print(\"Solved result:\")\n",
        "print_sudoku(solve(b.puzzle))\n",
        "print()\n",
        "print(\"Solved is correct?\")\n",
        "print(np.array_equal(solve(b.puzzle), b.solution))"
      ],
      "metadata": {
        "colab": {
          "base_uri": "https://localhost:8080/"
        },
        "id": "te_VdE968KLg",
        "outputId": "345b516e-3f17-4fe4-9e80-5c8e314087ea"
      },
      "execution_count": null,
      "outputs": [
        {
          "output_type": "stream",
          "name": "stdout",
          "text": [
            "Solution:\n",
            "528|967|413\n",
            "947|531|862\n",
            "361|248|579\n",
            "---|---|---\n",
            "674|325|981\n",
            "832|719|654\n",
            "195|684|327\n",
            "---|---|---\n",
            "219|853|746\n",
            "453|176|298\n",
            "786|492|135\n",
            "\n",
            "Puzzle:\n",
            "500|007|403\n",
            "040|001|862\n",
            "001|208|579\n",
            "---|---|---\n",
            "004|025|081\n",
            "832|009|650\n",
            "005|004|300\n",
            "---|---|---\n",
            "010|003|740\n",
            "400|076|290\n",
            "086|092|130\n",
            "\n",
            "Solved result:\n",
            "528|967|413\n",
            "947|531|862\n",
            "361|248|579\n",
            "---|---|---\n",
            "674|325|981\n",
            "832|719|654\n",
            "195|684|327\n",
            "---|---|---\n",
            "219|853|746\n",
            "453|176|298\n",
            "786|492|135\n",
            "\n",
            "Solved is correct?\n",
            "True\n"
          ]
        }
      ]
    }
  ]
}